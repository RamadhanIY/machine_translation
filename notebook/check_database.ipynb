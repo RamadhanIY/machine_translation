{
 "cells": [
  {
   "cell_type": "code",
   "execution_count": 4,
   "metadata": {},
   "outputs": [
    {
     "name": "stdout",
     "output_type": "stream",
     "text": [
      "+----+------+--------+-------+----------------------------------------+----------------------------------------+----------+--------------+\n",
      "|    |   id | name   |   age | jawa_text                              | indonesia_text                         |   rating | suggestion   |\n",
      "|----+------+--------+-------+----------------------------------------+----------------------------------------+----------+--------------|\n",
      "|  0 |    1 | nia    |     3 | ibuku tumbas sayur ing pasar           | ibuku beli sayur pasar                 |        4 | nice         |\n",
      "|  1 |    2 | ramaaa |    22 | adhikku arep budal sekolah             | itu akan pergi sekolah                 |        4 | okela        |\n",
      "|  2 |    3 | bengki |    21 | aku seneng banget sinau bareng koncoku | saya sangat suka belajar bersama teman |        5 | baguss bgt   |\n",
      "|  3 |    4 | agus   |    12 | aku sinau kanggo persiapan ujian       | aku belajar untuk persiapan ujian      |        5 | oke          |\n",
      "+----+------+--------+-------+----------------------------------------+----------------------------------------+----------+--------------+\n"
     ]
    }
   ],
   "source": [
    "import sqlite3\n",
    "import pandas as pd\n",
    "from tabulate import tabulate\n",
    "\n",
    "# Path to the database file\n",
    "data_path = \"../app/dev/data_form.db\"\n",
    "\n",
    "# Connect to the database\n",
    "conn = sqlite3.connect(data_path)\n",
    "\n",
    "# Query the data\n",
    "query = \"SELECT * FROM translations\"\n",
    "df = pd.read_sql_query(query, conn)\n",
    "\n",
    "# Close the connection\n",
    "conn.close()\n",
    "\n",
    "# Print the data as a table\n",
    "print(tabulate(df, headers='keys', tablefmt='psql'))"
   ]
  }
 ],
 "metadata": {
  "kernelspec": {
   "display_name": "mt_venv",
   "language": "python",
   "name": "python3"
  },
  "language_info": {
   "codemirror_mode": {
    "name": "ipython",
    "version": 3
   },
   "file_extension": ".py",
   "mimetype": "text/x-python",
   "name": "python",
   "nbconvert_exporter": "python",
   "pygments_lexer": "ipython3",
   "version": "3.12.3"
  }
 },
 "nbformat": 4,
 "nbformat_minor": 2
}
